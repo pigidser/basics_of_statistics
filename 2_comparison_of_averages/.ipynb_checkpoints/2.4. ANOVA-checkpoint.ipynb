{
 "cells": [
  {
   "cell_type": "code",
   "execution_count": 1,
   "metadata": {},
   "outputs": [],
   "source": [
    "import pandas as pd\n",
    "import numpy as np\n",
    "import seaborn as sns\n",
    "import matplotlib.pyplot as plt\n",
    "%matplotlib inline"
   ]
  },
  {
   "cell_type": "code",
   "execution_count": 2,
   "metadata": {},
   "outputs": [],
   "source": [
    "data = pd.read_csv(\"./data/genetherapy.csv\")"
   ]
  },
  {
   "cell_type": "code",
   "execution_count": 3,
   "metadata": {},
   "outputs": [
    {
     "data": {
      "text/plain": [
       "<AxesSubplot:xlabel='Therapy', ylabel='expr'>"
      ]
     },
     "execution_count": 3,
     "metadata": {},
     "output_type": "execute_result"
    },
    {
     "data": {
      "image/png": "[encoded data removed]",
      "text/plain": [
       "<Figure size 432x288 with 1 Axes>"
      ]
     },
     "metadata": {
      "needs_background": "light"
     },
     "output_type": "display_data"
    }
   ],
   "source": [
    "# Доверительные интервалы\n",
    "sns.lineplot(x='Therapy', y='expr', data=data)"
   ]
  },
  {
   "cell_type": "code",
   "execution_count": 4,
   "metadata": {},
   "outputs": [
    {
     "data": {
      "text/plain": [
       "<ErrorbarContainer object of 3 artists>"
      ]
     },
     "execution_count": 4,
     "metadata": {},
     "output_type": "execute_result"
    },
    {
     "data": {
      "image/png": "[encoded data removed]",
      "text/plain": [
       "<Figure size 432x288 with 1 Axes>"
      ]
     },
     "metadata": {
      "needs_background": "light"
     },
     "output_type": "display_data"
    }
   ],
   "source": [
    "# Доверительные интервалы\n",
    "groups = data.groupby('Therapy')['expr']\n",
    "n = groups.apply(len)\n",
    "mean = groups.mean()\n",
    "std = groups.std() / np.sqrt(n)\n",
    "\n",
    "plt.errorbar(x = mean.index, y = mean, yerr = 2*std)"
   ]
  },
  {
   "cell_type": "code",
   "execution_count": 5,
   "metadata": {},
   "outputs": [
    {
     "name": "stdout",
     "output_type": "stream",
     "text": [
      "           Df   Sum Sq Mean Sq F-value p-value\n",
      "Therapy     3   560.72  186.91    8.04  0.0002\n",
      "Residuals  56  1302.27   23.25                \n"
     ]
    }
   ],
   "source": [
    "from scipy.stats import stats\n",
    "import pandas as pd\n",
    "import numpy as np\n",
    "\n",
    "\n",
    "def ssw(main_data: pd.DataFrame, group_col: str, value_col: str):\n",
    "    group_names = data[group_col].unique()\n",
    "    return np.sum([\n",
    "        (\n",
    "            main_data.loc[main_data[group_col] == group, value_col] -\n",
    "            main_data.loc[main_data[group_col] == group, value_col].mean()\n",
    "        ) ** 2\n",
    "        for group in group_names\n",
    "    ])\n",
    "\n",
    "\n",
    "def ssb(main_data: pd.DataFrame, group_col: str, value_col: str):\n",
    "    group_names = data[group_col].unique()\n",
    "    overall_mean = main_data[value_col].mean()\n",
    "    return np.sum([\n",
    "        len(main_data.loc[main_data[group_col] == group, value_col]) * (\n",
    "            main_data.loc[main_data[group_col] == group, value_col].mean() -\n",
    "            overall_mean\n",
    "        ) ** 2\n",
    "        for group in group_names\n",
    "    ])\n",
    "\n",
    "\n",
    "# Файл данных должен лежать в папке с файлом .py (или .ipynb) \n",
    "data = pd.read_csv('./data/genetherapy.csv')\n",
    "groups = data['Therapy'].unique()\n",
    "subsets = [data.query('Therapy == @group')['expr'] for group in groups]\n",
    "\n",
    "ssb_df = len(groups) - 1\n",
    "ssw_df = data.shape[0] - len(groups)\n",
    "\n",
    "SSW = ssw(data, 'Therapy', 'expr')\n",
    "SSB = ssb(data, 'Therapy', 'expr')\n",
    "\n",
    "f_val, p_val = stats.f_oneway(*subsets)\n",
    "\n",
    "anova_results = pd.DataFrame([\n",
    "{\n",
    "        'Df': ssb_df,\n",
    "        'Sum Sq': '{0:.2f}'.format(SSB),\n",
    "        'Mean Sq': '{0:.2f}'.format(SSB / ssb_df),\n",
    "        'F-value': '{0:.2f}'.format(f_val),\n",
    "        'p-value': '{0:.4f}'.format(p_val),\n",
    "    },\n",
    "    {\n",
    "        'Df': ssw_df,\n",
    "        'Sum Sq': '{0:.2f}'.format(SSW),\n",
    "        'Mean Sq': '{0:.2f}'.format(SSW / ssw_df),\n",
    "        'F-value': '',\n",
    "        'p-value': '',\n",
    "    },\n",
    "], index=['Therapy', 'Residuals'])\n",
    "\n",
    "print(anova_results)"
   ]
  },
  {
   "cell_type": "code",
   "execution_count": 6,
   "metadata": {},
   "outputs": [
    {
     "name": "stdout",
     "output_type": "stream",
     "text": [
      "            df       sum_sq     mean_sq         F    PR(>F)\n",
      "Therapy    3.0   560.716667  186.905556  8.037302  0.000152\n",
      "Residual  56.0  1302.266667   23.254762       NaN       NaN\n"
     ]
    }
   ],
   "source": [
    "import statsmodels.api as sm\n",
    "from statsmodels.formula.api import ols\n",
    "\n",
    "lm = ols('expr ~ Therapy', data=data).fit()\n",
    "table = sm.stats.anova_lm(lm)\n",
    "print(table)"
   ]
  },
  {
   "cell_type": "code",
   "execution_count": 7,
   "metadata": {},
   "outputs": [
    {
     "data": {
      "text/plain": [
       "F_onewayResult(statistic=8.03730248114399, pvalue=0.00015249722895229536)"
      ]
     },
     "execution_count": 7,
     "metadata": {},
     "output_type": "execute_result"
    }
   ],
   "source": [
    "from scipy import stats\n",
    "import pandas as pd\n",
    "\n",
    "data = pd.read_csv('./data/genetherapy.csv')\n",
    "samples=[list(frame) for group, frame in data.groupby('Therapy')['expr']]\n",
    "stats.f_oneway(*samples)"
   ]
  },
  {
   "cell_type": "code",
   "execution_count": 8,
   "metadata": {},
   "outputs": [
    {
     "name": "stdout",
     "output_type": "stream",
     "text": [
      "Нулевая гипотеза: A=B=C=D\n",
      "Альтернативная гипотеза: !(A=B=C=D)\n",
      "Результат:\n",
      "отклоняем нулевую гипотезу\n"
     ]
    }
   ],
   "source": [
    "from scipy import stats\n",
    "import pandas as pd\n",
    "\n",
    "# Выборки которые надо сравнить\n",
    "data = pd.read_csv('./data/genetherapy.csv')\n",
    "\n",
    "gr = data.groupby('Therapy')['expr']\n",
    "data = pd.DataFrame(gr.groups)\n",
    "\n",
    "print('Нулевая гипотеза:', '='.join(data))\n",
    "print('Альтернативная гипотеза:', f'!({\"=\".join(data)})')\n",
    "# общая средняя\n",
    "grand_mean = data.values.flatten().mean()\n",
    "# отклонение групповых средний от общей средней\n",
    "ssb = sum(data[group].size * (group_mean - grand_mean)**2  for group, group_mean in data.mean().items())\n",
    "# отклонения значений в внутри группы от средней группы\n",
    "ssw = sum(sum((x - group_mean)**2 for x in data[group]) for group, group_mean in data.mean().items())\n",
    "\n",
    "groups = data.shape[1]\n",
    "dfb = groups - 1\n",
    "dfw = data.size - groups\n",
    "# межгрупповой средний квадрат  \n",
    "mssb = ssb/dfb\n",
    "# внутригрупповой средний квадрат\n",
    "mssw = ssw/dfw\n",
    "\n",
    "f_value = mssb/mssw\n",
    "\n",
    "p = stats.f.sf(f_value, dfb, dfw)\n",
    "print('Результат:')\n",
    "if p < 0.05:\n",
    "    print('отклоняем нулевую гипотезу')\n",
    "else:\n",
    "    print('НЕ отклоняем нулевую гипотезу')"
   ]
  },
  {
   "cell_type": "code",
   "execution_count": null,
   "metadata": {},
   "outputs": [],
   "source": []
  }
 ],
 "metadata": {
  "kernelspec": {
   "display_name": "Python 3 (ipykernel)",
   "language": "python",
   "name": "python3"
  },
  "language_info": {
   "codemirror_mode": {
    "name": "ipython",
    "version": 3
   },
   "file_extension": ".py",
   "mimetype": "text/x-python",
   "name": "python",
   "nbconvert_exporter": "python",
   "pygments_lexer": "ipython3",
   "version": "3.7.6"
  }
 },
 "nbformat": 4,
 "nbformat_minor": 4
}
